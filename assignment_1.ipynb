{
 "cells": [
  {
   "cell_type": "code",
   "execution_count": 1,
   "metadata": {
    "ExecuteTime": {
     "end_time": "2019-03-21T01:08:05.721870Z",
     "start_time": "2019-03-21T01:08:04.830350Z"
    }
   },
   "outputs": [],
   "source": [
    "import pandas as pd \n",
    "import matplotlib.pyplot as plt \n",
    "import seaborn as sns"
   ]
  },
  {
   "cell_type": "code",
   "execution_count": 3,
   "metadata": {
    "ExecuteTime": {
     "end_time": "2019-03-21T01:08:13.750028Z",
     "start_time": "2019-03-21T01:08:13.740195Z"
    }
   },
   "outputs": [],
   "source": [
    "data = pd.read_csv('../../survey.csv')"
   ]
  },
  {
   "cell_type": "code",
   "execution_count": 4,
   "metadata": {
    "ExecuteTime": {
     "end_time": "2019-03-21T01:08:14.425842Z",
     "start_time": "2019-03-21T01:08:14.397002Z"
    }
   },
   "outputs": [
    {
     "data": {
      "text/html": [
       "<div>\n",
       "<style scoped>\n",
       "    .dataframe tbody tr th:only-of-type {\n",
       "        vertical-align: middle;\n",
       "    }\n",
       "\n",
       "    .dataframe tbody tr th {\n",
       "        vertical-align: top;\n",
       "    }\n",
       "\n",
       "    .dataframe thead th {\n",
       "        text-align: right;\n",
       "    }\n",
       "</style>\n",
       "<table border=\"1\" class=\"dataframe\">\n",
       "  <thead>\n",
       "    <tr style=\"text-align: right;\">\n",
       "      <th></th>\n",
       "      <th>Timestamp</th>\n",
       "      <th>In one sentence describe how you feel about this program. (for sentiment analysis)</th>\n",
       "      <th>Which programming language are you most comfortable using to make data visualizations?</th>\n",
       "      <th>What is your favorite type of plot to make?</th>\n",
       "      <th>Are you colorblind?</th>\n",
       "      <th>How old are you?</th>\n",
       "      <th>Where are you from?</th>\n",
       "      <th>How difficult is it for you to make a barplot?</th>\n",
       "      <th>What's your favorite visualization package?</th>\n",
       "      <th>How difficult is it for you to make a boxplot?</th>\n",
       "      <th>How difficult is it for you to make a line graph?</th>\n",
       "      <th>How difficult is it for you to make a stacked area graph?</th>\n",
       "      <th>What are you most excited to learn about in this class?</th>\n",
       "      <th>What are you least excited about in this class?</th>\n",
       "      <th>What is one type of plot that you're curious about but haven't made before?</th>\n",
       "      <th>What do you want to get out of this class?</th>\n",
       "      <th>How many hours a week do you expect to spend on hw for this course?</th>\n",
       "      <th>How interested are you in participating in data visualization competitions (on reddit, kaggle, etc) as part of this course?</th>\n",
       "      <th>How comfortable are you doing a presentation in front of 40-80 people?</th>\n",
       "    </tr>\n",
       "  </thead>\n",
       "  <tbody>\n",
       "    <tr>\n",
       "      <th>0</th>\n",
       "      <td>3/19/2019 11:07:46</td>\n",
       "      <td>.......:)</td>\n",
       "      <td>python</td>\n",
       "      <td>NaN</td>\n",
       "      <td>No</td>\n",
       "      <td>23.0</td>\n",
       "      <td>...</td>\n",
       "      <td>1</td>\n",
       "      <td>NaN</td>\n",
       "      <td>1.0</td>\n",
       "      <td>1</td>\n",
       "      <td>2.0</td>\n",
       "      <td>..</td>\n",
       "      <td>presentation</td>\n",
       "      <td>////</td>\n",
       "      <td>...</td>\n",
       "      <td>0.0</td>\n",
       "      <td>1</td>\n",
       "      <td>1</td>\n",
       "    </tr>\n",
       "    <tr>\n",
       "      <th>1</th>\n",
       "      <td>3/19/2019 11:08:26</td>\n",
       "      <td>intensive but happy.</td>\n",
       "      <td>Python</td>\n",
       "      <td>Histogram</td>\n",
       "      <td>No</td>\n",
       "      <td>26.0</td>\n",
       "      <td>China</td>\n",
       "      <td>1</td>\n",
       "      <td>NaN</td>\n",
       "      <td>2.0</td>\n",
       "      <td>1</td>\n",
       "      <td>4.0</td>\n",
       "      <td>data visualization with real word applications.</td>\n",
       "      <td>no idea yet</td>\n",
       "      <td>dynamic plotting</td>\n",
       "      <td>to learn what is needed for a data scientist</td>\n",
       "      <td>2.0</td>\n",
       "      <td>5</td>\n",
       "      <td>4</td>\n",
       "    </tr>\n",
       "    <tr>\n",
       "      <th>2</th>\n",
       "      <td>3/19/2019 11:08:57</td>\n",
       "      <td>It's intensive and the courses are helpful.</td>\n",
       "      <td>python</td>\n",
       "      <td>Scatterplot</td>\n",
       "      <td>No</td>\n",
       "      <td>28.0</td>\n",
       "      <td>Taiwan</td>\n",
       "      <td>2</td>\n",
       "      <td>NaN</td>\n",
       "      <td>3.0</td>\n",
       "      <td>1</td>\n",
       "      <td>4.0</td>\n",
       "      <td>Create cool visualization</td>\n",
       "      <td>Learn to create amazing visualization from the...</td>\n",
       "      <td>bubble plots</td>\n",
       "      <td>I hope I can visualize data fluently</td>\n",
       "      <td>4.0</td>\n",
       "      <td>5</td>\n",
       "      <td>3</td>\n",
       "    </tr>\n",
       "    <tr>\n",
       "      <th>3</th>\n",
       "      <td>3/19/2019 11:09:19</td>\n",
       "      <td>I really enjoy the program and the whole atmos...</td>\n",
       "      <td>Python</td>\n",
       "      <td>Histogram</td>\n",
       "      <td>No</td>\n",
       "      <td>29.0</td>\n",
       "      <td>Russia</td>\n",
       "      <td>2</td>\n",
       "      <td>NaN</td>\n",
       "      <td>3.0</td>\n",
       "      <td>1</td>\n",
       "      <td>4.0</td>\n",
       "      <td>Powerful and easy visualization libraries</td>\n",
       "      <td>not studying JS for data viz</td>\n",
       "      <td>Bubble chart</td>\n",
       "      <td>Getting used to making cool visualizations in ...</td>\n",
       "      <td>4.0</td>\n",
       "      <td>3</td>\n",
       "      <td>4</td>\n",
       "    </tr>\n",
       "    <tr>\n",
       "      <th>4</th>\n",
       "      <td>3/19/2019 11:09:26</td>\n",
       "      <td>Stressful</td>\n",
       "      <td>Python</td>\n",
       "      <td>Histogram</td>\n",
       "      <td>No</td>\n",
       "      <td>26.0</td>\n",
       "      <td>china</td>\n",
       "      <td>2</td>\n",
       "      <td>NaN</td>\n",
       "      <td>3.0</td>\n",
       "      <td>1</td>\n",
       "      <td>3.0</td>\n",
       "      <td>Interactive graphs</td>\n",
       "      <td>Assignments</td>\n",
       "      <td>3d visualizations</td>\n",
       "      <td>Data visualization principles</td>\n",
       "      <td>7.0</td>\n",
       "      <td>4</td>\n",
       "      <td>5</td>\n",
       "    </tr>\n",
       "  </tbody>\n",
       "</table>\n",
       "</div>"
      ],
      "text/plain": [
       "            Timestamp  \\\n",
       "0  3/19/2019 11:07:46   \n",
       "1  3/19/2019 11:08:26   \n",
       "2  3/19/2019 11:08:57   \n",
       "3  3/19/2019 11:09:19   \n",
       "4  3/19/2019 11:09:26   \n",
       "\n",
       "  In one sentence describe how you feel about this program. (for sentiment analysis)  \\\n",
       "0                                          .......:)                                   \n",
       "1                               intensive but happy.                                   \n",
       "2        It's intensive and the courses are helpful.                                   \n",
       "3  I really enjoy the program and the whole atmos...                                   \n",
       "4                                          Stressful                                   \n",
       "\n",
       "  Which programming language are you most comfortable using to make data visualizations?  \\\n",
       "0                                             python                                       \n",
       "1                                             Python                                       \n",
       "2                                             python                                       \n",
       "3                                             Python                                       \n",
       "4                                             Python                                       \n",
       "\n",
       "  What is your favorite type of plot to make? Are you colorblind?  \\\n",
       "0                                         NaN                  No   \n",
       "1                                   Histogram                  No   \n",
       "2                                 Scatterplot                  No   \n",
       "3                                   Histogram                  No   \n",
       "4                                   Histogram                  No   \n",
       "\n",
       "   How old are you? Where are you from?  \\\n",
       "0              23.0                 ...   \n",
       "1              26.0               China   \n",
       "2              28.0              Taiwan   \n",
       "3              29.0              Russia   \n",
       "4              26.0               china   \n",
       "\n",
       "   How difficult is it for you to make a barplot?  \\\n",
       "0                                               1   \n",
       "1                                               1   \n",
       "2                                               2   \n",
       "3                                               2   \n",
       "4                                               2   \n",
       "\n",
       "  What's your favorite visualization package?  \\\n",
       "0                                         NaN   \n",
       "1                                         NaN   \n",
       "2                                         NaN   \n",
       "3                                         NaN   \n",
       "4                                         NaN   \n",
       "\n",
       "   How difficult is it for you to make a boxplot?  \\\n",
       "0                                             1.0   \n",
       "1                                             2.0   \n",
       "2                                             3.0   \n",
       "3                                             3.0   \n",
       "4                                             3.0   \n",
       "\n",
       "   How difficult is it for you to make a line graph?  \\\n",
       "0                                                  1   \n",
       "1                                                  1   \n",
       "2                                                  1   \n",
       "3                                                  1   \n",
       "4                                                  1   \n",
       "\n",
       "   How difficult is it for you to make a stacked area graph?  \\\n",
       "0                                                2.0           \n",
       "1                                                4.0           \n",
       "2                                                4.0           \n",
       "3                                                4.0           \n",
       "4                                                3.0           \n",
       "\n",
       "  What are you most excited to learn about in this class?  \\\n",
       "0                                                 ..        \n",
       "1    data visualization with real word applications.        \n",
       "2                          Create cool visualization        \n",
       "3          Powerful and easy visualization libraries        \n",
       "4                                 Interactive graphs        \n",
       "\n",
       "     What are you least excited about in this class?  \\\n",
       "0                                       presentation   \n",
       "1                                        no idea yet   \n",
       "2  Learn to create amazing visualization from the...   \n",
       "3                       not studying JS for data viz   \n",
       "4                                        Assignments   \n",
       "\n",
       "  What is one type of plot that you're curious about but haven't made before?  \\\n",
       "0                                               ////                            \n",
       "1                                   dynamic plotting                            \n",
       "2                                       bubble plots                            \n",
       "3                                       Bubble chart                            \n",
       "4                                  3d visualizations                            \n",
       "\n",
       "          What do you want to get out of this class?  \\\n",
       "0                                                ...   \n",
       "1       to learn what is needed for a data scientist   \n",
       "2               I hope I can visualize data fluently   \n",
       "3  Getting used to making cool visualizations in ...   \n",
       "4                      Data visualization principles   \n",
       "\n",
       "   How many hours a week do you expect to spend on hw for this course?  \\\n",
       "0                                                0.0                     \n",
       "1                                                2.0                     \n",
       "2                                                4.0                     \n",
       "3                                                4.0                     \n",
       "4                                                7.0                     \n",
       "\n",
       "   How interested are you in participating in data visualization competitions (on reddit, kaggle, etc) as part of this course?  \\\n",
       "0                                                  1                                                                             \n",
       "1                                                  5                                                                             \n",
       "2                                                  5                                                                             \n",
       "3                                                  3                                                                             \n",
       "4                                                  4                                                                             \n",
       "\n",
       "   How comfortable are you doing a presentation in front of 40-80 people?  \n",
       "0                                                  1                       \n",
       "1                                                  4                       \n",
       "2                                                  3                       \n",
       "3                                                  4                       \n",
       "4                                                  5                       "
      ]
     },
     "execution_count": 4,
     "metadata": {},
     "output_type": "execute_result"
    }
   ],
   "source": [
    "data.head()"
   ]
  },
  {
   "cell_type": "code",
   "execution_count": 5,
   "metadata": {
    "ExecuteTime": {
     "end_time": "2019-03-21T01:08:15.352934Z",
     "start_time": "2019-03-21T01:08:15.348043Z"
    }
   },
   "outputs": [],
   "source": [
    "data = data[['How many hours a week do you expect to spend on hw for this course?', 'How comfortable are you doing a presentation in front of 40-80 people?','How interested are you in participating in data visualization competitions (on reddit, kaggle, etc) as part of this course?']]\n",
    "data.columns = ['Hours', 'presentation', 'kaggle']"
   ]
  },
  {
   "cell_type": "code",
   "execution_count": 6,
   "metadata": {
    "ExecuteTime": {
     "end_time": "2019-03-21T01:08:17.427292Z",
     "start_time": "2019-03-21T01:08:17.406230Z"
    }
   },
   "outputs": [
    {
     "data": {
      "text/html": [
       "<div>\n",
       "<style scoped>\n",
       "    .dataframe tbody tr th:only-of-type {\n",
       "        vertical-align: middle;\n",
       "    }\n",
       "\n",
       "    .dataframe tbody tr th {\n",
       "        vertical-align: top;\n",
       "    }\n",
       "\n",
       "    .dataframe thead th {\n",
       "        text-align: right;\n",
       "    }\n",
       "</style>\n",
       "<table border=\"1\" class=\"dataframe\">\n",
       "  <thead>\n",
       "    <tr style=\"text-align: right;\">\n",
       "      <th></th>\n",
       "      <th>Hours</th>\n",
       "      <th>presentation</th>\n",
       "      <th>kaggle</th>\n",
       "    </tr>\n",
       "  </thead>\n",
       "  <tbody>\n",
       "    <tr>\n",
       "      <th>count</th>\n",
       "      <td>84.000000</td>\n",
       "      <td>84.000000</td>\n",
       "      <td>84.000000</td>\n",
       "    </tr>\n",
       "    <tr>\n",
       "      <th>mean</th>\n",
       "      <td>3.934524</td>\n",
       "      <td>3.488095</td>\n",
       "      <td>3.154762</td>\n",
       "    </tr>\n",
       "    <tr>\n",
       "      <th>std</th>\n",
       "      <td>3.591137</td>\n",
       "      <td>1.265807</td>\n",
       "      <td>1.357656</td>\n",
       "    </tr>\n",
       "    <tr>\n",
       "      <th>min</th>\n",
       "      <td>0.000000</td>\n",
       "      <td>1.000000</td>\n",
       "      <td>1.000000</td>\n",
       "    </tr>\n",
       "    <tr>\n",
       "      <th>25%</th>\n",
       "      <td>2.375000</td>\n",
       "      <td>3.000000</td>\n",
       "      <td>2.000000</td>\n",
       "    </tr>\n",
       "    <tr>\n",
       "      <th>50%</th>\n",
       "      <td>3.000000</td>\n",
       "      <td>4.000000</td>\n",
       "      <td>3.000000</td>\n",
       "    </tr>\n",
       "    <tr>\n",
       "      <th>75%</th>\n",
       "      <td>4.000000</td>\n",
       "      <td>4.000000</td>\n",
       "      <td>4.000000</td>\n",
       "    </tr>\n",
       "    <tr>\n",
       "      <th>max</th>\n",
       "      <td>30.000000</td>\n",
       "      <td>5.000000</td>\n",
       "      <td>5.000000</td>\n",
       "    </tr>\n",
       "  </tbody>\n",
       "</table>\n",
       "</div>"
      ],
      "text/plain": [
       "           Hours  presentation     kaggle\n",
       "count  84.000000     84.000000  84.000000\n",
       "mean    3.934524      3.488095   3.154762\n",
       "std     3.591137      1.265807   1.357656\n",
       "min     0.000000      1.000000   1.000000\n",
       "25%     2.375000      3.000000   2.000000\n",
       "50%     3.000000      4.000000   3.000000\n",
       "75%     4.000000      4.000000   4.000000\n",
       "max    30.000000      5.000000   5.000000"
      ]
     },
     "execution_count": 6,
     "metadata": {},
     "output_type": "execute_result"
    }
   ],
   "source": [
    "data.describe()"
   ]
  },
  {
   "cell_type": "code",
   "execution_count": 7,
   "metadata": {
    "ExecuteTime": {
     "end_time": "2019-03-21T01:08:18.055627Z",
     "start_time": "2019-03-21T01:08:18.019819Z"
    }
   },
   "outputs": [],
   "source": [
    "def category_maker(row):\n",
    "    if row > 3:\n",
    "        return 'confident'\n",
    "    if row == 3:\n",
    "        return 'meh'\n",
    "    if row < 3:\n",
    "        return 'not so confident'\n",
    "data['Presentation Confidence Level'] = data.presentation.apply(category_maker)"
   ]
  },
  {
   "cell_type": "code",
   "execution_count": 8,
   "metadata": {
    "ExecuteTime": {
     "end_time": "2019-03-21T01:08:19.010959Z",
     "start_time": "2019-03-21T01:08:19.004328Z"
    }
   },
   "outputs": [],
   "source": [
    "def kaggle_cat(row):\n",
    "    if row > 3:\n",
    "        return 'Kaggle'\n",
    "    if row <= 3:\n",
    "        return 'No Kaggle'\n",
    "data['Kaggle Preference'] = data.kaggle.apply(kaggle_cat)"
   ]
  },
  {
   "cell_type": "code",
   "execution_count": 9,
   "metadata": {
    "ExecuteTime": {
     "end_time": "2019-03-21T01:08:20.944106Z",
     "start_time": "2019-03-21T01:08:20.939226Z"
    }
   },
   "outputs": [],
   "source": [
    "data = data[data['Hours']<30]"
   ]
  },
  {
   "cell_type": "code",
   "execution_count": 10,
   "metadata": {
    "ExecuteTime": {
     "end_time": "2019-03-21T01:08:22.195346Z",
     "start_time": "2019-03-21T01:08:21.988249Z"
    }
   },
   "outputs": [
    {
     "data": {
      "text/plain": [
       "<matplotlib.axes._subplots.AxesSubplot at 0x1a1393b6d8>"
      ]
     },
     "execution_count": 10,
     "metadata": {},
     "output_type": "execute_result"
    },
    {
     "data": {
      "image/png": "[encoded data removed]",
      "text/plain": [
       "<Figure size 432x288 with 1 Axes>"
      ]
     },
     "metadata": {
      "needs_background": "light"
     },
     "output_type": "display_data"
    }
   ],
   "source": [
    "sns.stripplot(x=data['Kaggle Preference'], y=data['Hours'], hue=data['Presentation Confidence Level'] , jitter=True)"
   ]
  },
  {
   "cell_type": "code",
   "execution_count": 28,
   "metadata": {
    "ExecuteTime": {
     "end_time": "2019-03-21T01:12:43.163015Z",
     "start_time": "2019-03-21T01:12:42.940856Z"
    }
   },
   "outputs": [
    {
     "data": {
      "image/png": "[encoded data removed]",
      "text/plain": [
       "<Figure size 864x576 with 1 Axes>"
      ]
     },
     "metadata": {
      "needs_background": "light"
     },
     "output_type": "display_data"
    }
   ],
   "source": [
    "plt.figure(figsize=(12,8))\n",
    "sns.swarmplot(x=data['Kaggle Preference'], y=data['Hours'], \n",
    "              hue=data['Presentation Confidence Level'], \n",
    "              palette=\"Set2\", size=12, marker='o').set_title(\"Hours Students Expect to Spend, Their Preference for Kaggle & Presentation Confidence Level\").set_size(12)\n",
    "\n",
    "plt.xlabel('Kaggle Preference', fontsize='large')\n",
    "plt.ylabel('Hours Expected to Spend on Data Visualization', fontsize='large')\n",
    "\n",
    "plt.show()"
   ]
  },
  {
   "cell_type": "code",
   "execution_count": null,
   "metadata": {},
   "outputs": [],
   "source": []
  }
 ],
 "metadata": {
  "kernelspec": {
   "display_name": "Python 3",
   "language": "python",
   "name": "python3"
  },
  "language_info": {
   "codemirror_mode": {
    "name": "ipython",
    "version": 3
   },
   "file_extension": ".py",
   "mimetype": "text/x-python",
   "name": "python",
   "nbconvert_exporter": "python",
   "pygments_lexer": "ipython3",
   "version": "3.6.8"
  }
 },
 "nbformat": 4,
 "nbformat_minor": 2
}
